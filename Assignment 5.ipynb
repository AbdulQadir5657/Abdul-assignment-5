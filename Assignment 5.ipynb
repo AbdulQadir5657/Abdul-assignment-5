{
 "cells": [
  {
   "cell_type": "code",
   "execution_count": null,
   "id": "70966b97",
   "metadata": {},
   "outputs": [],
   "source": [
    "# Question 1\n",
    "1. What does an empty dictionarys code look like?\n",
    "\n",
    "    In Python, you can create an empty dictionary by using curly brackets {} or\n",
    "    the built-in dict() function without any arguments. Here is an example of how to\n",
    "    create an empty dictionary using curly brackets:\n",
    "    \n",
    "empty_dict = {}"
   ]
  },
  {
   "cell_type": "code",
   "execution_count": 6,
   "id": "2ec6dec5",
   "metadata": {},
   "outputs": [],
   "source": [
    "# Questions 2\n",
    "2. What is the value of a dictionary value with the key 'foo' and the value 42?\n",
    "\n",
    "my_dict = {\"foo\": \"42\"}\n",
    "\n",
    "   "
   ]
  },
  {
   "cell_type": "code",
   "execution_count": 8,
   "id": "0944cd1e",
   "metadata": {},
   "outputs": [],
   "source": [
    "# Question 3\n",
    "#3.What is the most significant distinction between a dictionary and a list?\n",
    "\n",
    "    The most significant distinction between a dictionary and a list in Python is that\n",
    "    a list is an ordered collection of elements, while a dictionary is an unordered collection\n",
    "    of key-value pairs. In a list, you access elements by their position (index), while in a\n",
    "    dictionary, you access elements by their key.\n",
    "    \n",
    "# List example   \n",
    "my_list = [1, 2, 3, 4]\n",
    "\n",
    "# Dictonary example\n",
    "my_dict = {\"Brand\": \"BMW\", \"Price\": 1200000}\n",
    "\n",
    "\n",
    "    \n",
    "    "
   ]
  },
  {
   "cell_type": "code",
   "execution_count": 17,
   "id": "92ed735b",
   "metadata": {},
   "outputs": [
    {
     "ename": "KeyError",
     "evalue": "'foo'",
     "output_type": "error",
     "traceback": [
      "\u001b[1;31m---------------------------------------------------------------------------\u001b[0m",
      "\u001b[1;31mKeyError\u001b[0m                                  Traceback (most recent call last)",
      "Cell \u001b[1;32mIn[17], line 5\u001b[0m\n\u001b[0;32m      1\u001b[0m \u001b[38;5;66;03m# Question 4\u001b[39;00m\n\u001b[0;32m      2\u001b[0m \u001b[38;5;66;03m#4. What happens if you try to access spam['foo'] if spam is {\"bar\": 100}?\u001b[39;00m\n\u001b[0;32m      4\u001b[0m spam \u001b[38;5;241m=\u001b[39m {\u001b[38;5;124m\"\u001b[39m\u001b[38;5;124mbar\u001b[39m\u001b[38;5;124m\"\u001b[39m: \u001b[38;5;241m100\u001b[39m}\n\u001b[1;32m----> 5\u001b[0m \u001b[38;5;28mprint\u001b[39m(\u001b[43mspam\u001b[49m\u001b[43m[\u001b[49m\u001b[38;5;124;43m\"\u001b[39;49m\u001b[38;5;124;43mfoo\u001b[39;49m\u001b[38;5;124;43m\"\u001b[39;49m\u001b[43m]\u001b[49m)\n",
      "\u001b[1;31mKeyError\u001b[0m: 'foo'"
     ]
    }
   ],
   "source": [
    "# Question 4\n",
    "#4. What happens if you try to access spam['foo'] if spam is {\"bar\": 100}?\n",
    "\n",
    "spam = {\"bar\": 100}\n",
    "print(spam[\"foo\"])\n"
   ]
  },
  {
   "cell_type": "code",
   "execution_count": 19,
   "id": "fe58c8ed",
   "metadata": {},
   "outputs": [
    {
     "name": "stdout",
     "output_type": "stream",
     "text": [
      "True\n",
      "True\n"
     ]
    }
   ],
   "source": [
    "# Question 5\n",
    "5. If a dictionary is stored in spam, what is the difference between the\n",
    "   expressions 'cat' in spam and'cat' in spam.keys()?\n",
    "    \n",
    "    If a dictionary is stored in spam, there is no difference between the expressions 'cat' in \n",
    "    spam and 'cat' in spam.keys(). Both expressions check if the key 'cat' is in the dictionary spam.\n",
    "    \n",
    "spam = {\"cat\": \"meow\", \"dog\": \"woof\"}\n",
    "print(\"cat\" in spam)  \n",
    "print(\"cat\" in spam.keys())  \n"
   ]
  },
  {
   "cell_type": "code",
   "execution_count": 20,
   "id": "50facd85",
   "metadata": {},
   "outputs": [
    {
     "name": "stdout",
     "output_type": "stream",
     "text": [
      "True\n",
      "False\n"
     ]
    }
   ],
   "source": [
    "# Question 6\n",
    "6. If a dictionary is stored in spam, what is the difference between the\n",
    "   expressions 'cat' in spam and 'cat' in spam.values()?\n",
    "    \n",
    "    \n",
    "    If a dictionary is stored in spam, the expression 'cat' in spam checks if the\n",
    "    key 'cat' is in the dictionary spam, while the expression 'cat' in spam.values()\n",
    "    checks if the value 'cat' is in any of the values in the dictionary spam.\n",
    "    \n",
    "spam = {\"cat\": \"meow\", \"dog\": \"woof\"}\n",
    "print(\"cat\" in spam) \n",
    "print(\"cat\" in spam.values())  \n",
    "\n",
    "                                          "
   ]
  },
  {
   "cell_type": "code",
   "execution_count": 6,
   "id": "d7d9b3a0",
   "metadata": {},
   "outputs": [
    {
     "name": "stdout",
     "output_type": "stream",
     "text": [
      "{'color': 'black'}\n"
     ]
    }
   ],
   "source": [
    "# Questions 7\n",
    "7. What is a shortcut for the following code?\n",
    "if 'color' not in spam:\n",
    "spam['color'] = 'black'\n",
    "\n",
    "\n",
    "spam = {}\n",
    "\n",
    "if 'color' not in spam:\n",
    "    spam['color'] = 'black'\n",
    "print(spam)\n"
   ]
  },
  {
   "cell_type": "code",
   "execution_count": 8,
   "id": "62de22a5",
   "metadata": {},
   "outputs": [
    {
     "name": "stdout",
     "output_type": "stream",
     "text": [
      "{'age': 25, 'city': 'New York', 'name': 'John'}\n"
     ]
    }
   ],
   "source": [
    "# Questions 8\n",
    "8. How do you \"pretty print\" dictionary values using which module and function?\n",
    "\n",
    "import pprint\n",
    "\n",
    "my_dict = {'name': 'John', 'age': 25, 'city': 'New York'}\n",
    "\n",
    "pprint.pprint(my_dict)\n",
    "\n",
    "\n"
   ]
  },
  {
   "cell_type": "code",
   "execution_count": null,
   "id": "8ebb9278",
   "metadata": {},
   "outputs": [],
   "source": []
  }
 ],
 "metadata": {
  "kernelspec": {
   "display_name": "Python 3 (ipykernel)",
   "language": "python",
   "name": "python3"
  },
  "language_info": {
   "codemirror_mode": {
    "name": "ipython",
    "version": 3
   },
   "file_extension": ".py",
   "mimetype": "text/x-python",
   "name": "python",
   "nbconvert_exporter": "python",
   "pygments_lexer": "ipython3",
   "version": "3.10.9"
  }
 },
 "nbformat": 4,
 "nbformat_minor": 5
}
